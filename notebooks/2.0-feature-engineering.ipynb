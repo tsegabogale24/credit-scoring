{
 "cells": [
  {
   "cell_type": "code",
   "execution_count": 9,
   "metadata": {},
   "outputs": [
    {
     "name": "stdout",
     "output_type": "stream",
     "text": [
      "⏳ Loading and preparing data...\n",
      "🔍 Selecting features...\n",
      "⚙️ Processing features...\n",
      "💾 Saving processed data...\n",
      "✅ Feature engineering complete!\n",
      "📊 Final feature matrix shape: (3742, 55)\n"
     ]
    }
   ],
   "source": [
    "\n",
    "\n",
    "\n",
    "\n",
    "# 1. Imports and Setup\n",
    "import pandas as pd\n",
    "import numpy as np\n",
    "import os\n",
    "import sys\n",
    "from pathlib import Path\n",
    "from sklearn.model_selection import train_test_split\n",
    "\n",
    "# Add src folder to path\n",
    "sys.path.append('..')\n",
    "from src import feature_engineering\n",
    "\n",
    "\n",
    "# 2. Configuration\n",
    "DATA_PATH = Path('../data/raw/data.csv')\n",
    "OUTPUT_DIR = Path('../data/processed')\n",
    "DROP_COLS = [\n",
    "    'TransactionId', 'BatchId', 'AccountId',\n",
    "    'SubscriptionId', 'CustomerId', 'TransactionStartTime'\n",
    "]\n",
    "\n",
    "# 3. Data Loading and Preparation\n",
    "print(\"⏳ Loading and preparing data...\")\n",
    "df = pd.read_csv(DATA_PATH)\n",
    "df = feature_engineering.extract_datetime_features(df, 'TransactionStartTime')\n",
    "agg_df = feature_engineering.aggregate_customer_features(df)\n",
    "\n",
    "# Get latest transaction per customer\n",
    "df_latest = (df.sort_values(\"TransactionStartTime\")\n",
    "             .groupby(\"CustomerId\")\n",
    "             .last()\n",
    "             .reset_index())\n",
    "\n",
    "# Merge features\n",
    "df_merged = pd.merge(df_latest, agg_df, on=\"CustomerId\")\n",
    "\n",
    "# 4. Feature Selection\n",
    "print(\"🔍 Selecting features...\")\n",
    "df_model = df_merged.drop(columns=DROP_COLS)\n",
    "numerical_features = [\n",
    "    'Amount', 'Value', 'PricingStrategy',\n",
    "    'total_amount', 'avg_amount', 'std_amount', 'transaction_count',\n",
    "    'transaction_hour', 'transaction_day', 'transaction_month', 'transaction_year',\n",
    "    'max_amount', 'min_amount', 'avg_value', 'std_value'\n",
    "]\n",
    "numerical_features = [col for col in numerical_features if col in df_model.columns]\n",
    "categorical_features = df_model.select_dtypes(include=[\"object\"]).columns.tolist()\n",
    "\n",
    "# 5. Feature Processing\n",
    "print(\"⚙️ Processing features...\")\n",
    "pipeline = feature_engineering.build_feature_pipeline(numerical_features, categorical_features)\n",
    "X_processed = pipeline.fit_transform(df_model)\n",
    "\n",
    "# 6. Save Outputs\n",
    "print(\"💾 Saving processed data...\")\n",
    "OUTPUT_DIR.mkdir(exist_ok=True)\n",
    "\n",
    "# Save processed features\n",
    "feature_names = pipeline.named_steps['preprocessing'].get_feature_names_out()\n",
    "pd.DataFrame(X_processed, columns=feature_names).to_csv(\n",
    "    OUTPUT_DIR/'X_preprocessed.csv', \n",
    "    index=False\n",
    ")\n",
    "\n",
    "# Save customer IDs for target merging\n",
    "df_merged[['CustomerId']].to_csv(OUTPUT_DIR/'customer_ids.csv', index=False)\n",
    "\n",
    "print(\"✅ Feature engineering complete!\")\n",
    "print(f\"📊 Final feature matrix shape: {X_processed.shape}\")"
   ]
  }
 ],
 "metadata": {
  "kernelspec": {
   "display_name": ".venv",
   "language": "python",
   "name": "python3"
  },
  "language_info": {
   "codemirror_mode": {
    "name": "ipython",
    "version": 3
   },
   "file_extension": ".py",
   "mimetype": "text/x-python",
   "name": "python",
   "nbconvert_exporter": "python",
   "pygments_lexer": "ipython3",
   "version": "3.11.3"
  }
 },
 "nbformat": 4,
 "nbformat_minor": 2
}
